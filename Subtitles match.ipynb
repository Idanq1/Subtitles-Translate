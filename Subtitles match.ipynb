{
 "cells": [
  {
   "cell_type": "code",
   "execution_count": 2,
   "metadata": {
    "collapsed": false,
    "jupyter": {
     "outputs_hidden": false
    },
    "ExecuteTime": {
     "end_time": "2024-01-09T21:32:17.503353900Z",
     "start_time": "2024-01-09T21:32:17.473434100Z"
    }
   },
   "outputs": [],
   "source": [
    "import pysrt\n",
    "from pysrt.srttime import SubRipTime\n",
    "import pandas as pd\n",
    "from bs4 import BeautifulSoup\n",
    "from IPython.display import clear_output\n",
    "import chardet"
   ]
  },
  {
   "cell_type": "code",
   "execution_count": 57,
   "metadata": {
    "ExecuteTime": {
     "end_time": "2024-01-09T21:47:32.545484Z",
     "start_time": "2024-01-09T21:47:32.505738800Z"
    }
   },
   "outputs": [],
   "source": [
    "heb_sub_path = r\"Data/Hebrew/Pirates.of.the.Caribbean.Dead.Men.Tell.No.Tales.2017.srt\"\n",
    "eng_sub_path = r\"Data/English/Pirates.of.the.Caribbean.Dead.Men.Tell.No.Tales.2017.srt\""
   ]
  },
  {
   "cell_type": "code",
   "execution_count": 58,
   "metadata": {
    "ExecuteTime": {
     "end_time": "2024-01-09T21:47:34.133482900Z",
     "start_time": "2024-01-09T21:47:33.979702Z"
    }
   },
   "outputs": [
    {
     "data": {
      "text/plain": "'utf-8'"
     },
     "execution_count": 58,
     "metadata": {},
     "output_type": "execute_result"
    }
   ],
   "source": [
    "# Find encoding\n",
    "with open(heb_sub_path, 'rb') as file:\n",
    "    result = chardet.detect(file.read())\n",
    "encoding = result['encoding']\n",
    "encoding"
   ]
  },
  {
   "cell_type": "code",
   "execution_count": 59,
   "metadata": {
    "collapsed": false,
    "jupyter": {
     "outputs_hidden": false
    },
    "ExecuteTime": {
     "end_time": "2024-01-09T21:47:35.639819300Z",
     "start_time": "2024-01-09T21:47:35.562027600Z"
    }
   },
   "outputs": [],
   "source": [
    "heb_subs = pysrt.open(heb_sub_path, encoding=encoding)\n",
    "eng_subs = pysrt.open(eng_sub_path)"
   ]
  },
  {
   "cell_type": "code",
   "execution_count": 40,
   "outputs": [],
   "source": [
    "# heb_subs.shift(seconds=5)"
   ],
   "metadata": {
    "collapsed": false,
    "ExecuteTime": {
     "end_time": "2024-01-09T21:43:58.595548400Z",
     "start_time": "2024-01-09T21:43:58.577585Z"
    }
   }
  },
  {
   "cell_type": "code",
   "execution_count": 6,
   "metadata": {
    "collapsed": false,
    "jupyter": {
     "outputs_hidden": false
    },
    "ExecuteTime": {
     "end_time": "2024-01-09T21:32:19.972565900Z",
     "start_time": "2024-01-09T21:32:19.967579500Z"
    }
   },
   "outputs": [],
   "source": [
    "dif = 0.8\n",
    "dif = int(dif * 1000)"
   ]
  },
  {
   "cell_type": "code",
   "execution_count": 60,
   "metadata": {
    "collapsed": false,
    "jupyter": {
     "outputs_hidden": false
    },
    "ExecuteTime": {
     "end_time": "2024-01-09T21:47:45.885118400Z",
     "start_time": "2024-01-09T21:47:36.774490300Z"
    }
   },
   "outputs": [],
   "source": [
    "subs = pd.DataFrame(columns=[\"Hebrew\", \"English\", \"Safe\", \"Hebrew_st\", \"Hebrew_e\", \"English_st\", \"English_e\"])\n",
    "for heb_sub in heb_subs:\n",
    "    h_start = heb_sub.start\n",
    "    h_end = heb_sub.end\n",
    "    safe = True\n",
    "    for eng_sub in eng_subs:\n",
    "        e_start = eng_sub.start\n",
    "        e_end = eng_sub.end\n",
    "\n",
    "        if h_start + 2000 < e_start:\n",
    "            break\n",
    "\n",
    "        if h_start - dif > e_start:  # More than (dif) second apart\n",
    "            continue\n",
    "        if (e_end - dif) < h_end < (e_end + dif):\n",
    "            if (e_start - dif) < h_start < (e_start + dif):\n",
    "                heb_text = BeautifulSoup(heb_sub.text, \"html.parser\").getText()  # Removes html format like <i>\n",
    "                eng_text = BeautifulSoup(eng_sub.text, \"html.parser\").getText()\n",
    "\n",
    "                if heb_text.count(\"\\n\") != eng_text.count(\"\\n\"):  # Check if the numbers of lines is not the same - meaning chance of unmatching sentences\n",
    "                    safe = False\n",
    "                if heb_text.count(\"?\") != eng_text.count(\"?\"):  # Check if the numbers of lines is not the same - meaning chance of unmatching sentences\n",
    "                    safe = False\n",
    "                subs.loc[subs.shape[0]] = [heb_text, eng_text, safe, h_start, h_end, e_start, e_end]\n",
    "                break\n",
    "\n"
   ]
  },
  {
   "cell_type": "code",
   "execution_count": 61,
   "metadata": {
    "collapsed": false,
    "jupyter": {
     "outputs_hidden": false
    },
    "ExecuteTime": {
     "end_time": "2024-01-09T21:47:45.926027400Z",
     "start_time": "2024-01-09T21:47:45.887114Z"
    }
   },
   "outputs": [
    {
     "data": {
      "text/plain": "                                 Hebrew  \\\n2               .\"אין לך מקום ב\"ההולנדי   \n13        .הוא יעזור לי למצוא את הקלשון   \n14        ...אתה חייב להפסיק להתנהג כמו   \n18            .הקללה שלי לא תישבר לעולם   \n30   !אני צריך לדבר עם הקפטן\\n?מה אמרת-   \n..                                  ...   \n816                !הנרי\\n.לפצל, לשבור-   \n835          .לרגע אחד היה לי הכל, הנרי   \n844                            ?כן, אבא   \n854                       .קפטן\\n.תודה-   \n856                     .רבותיי\\n.תודה-   \n\n                                        English   Safe     Hebrew_st  \\\n2    There's no place for you\\non the Dutchman.  False  00:03:47,090   \n13           He will help me\\nfind the Trident.  False  00:04:37,480   \n14             You have to stop\\nacting like...  False  00:04:42,980   \n18          But my curse\\nwill never be broken.  False  00:05:01,710   \n30           I need to speak\\nwith the captain.  False  00:06:41,350   \n..                                          ...    ...           ...   \n816                              Divide. Break.  False  01:47:07,080   \n835     For a moment,\\nI had everything, Henry.  False  01:53:45,310   \n844                                Yes, Father.  False  01:56:16,590   \n854                                  Thank you.  False  01:57:58,610   \n856                            Sirs. Thank you.  False  01:58:01,650   \n\n         Hebrew_e    English_st     English_e  \n2    00:03:49,300  00:03:47,020  00:03:49,772  \n13   00:04:38,769  00:04:37,153  00:04:38,613  \n14   00:04:43,939  00:04:42,659  00:04:43,660  \n18   00:05:03,460  00:05:01,427  00:05:03,429  \n30   00:06:43,229  00:06:41,360  00:06:42,487  \n..            ...           ...           ...  \n816  01:47:09,039  01:47:07,631  01:47:08,799  \n835  01:53:47,770  01:53:44,944  01:53:47,780  \n844  01:56:17,590  01:56:16,387  01:56:17,472  \n854  01:58:00,569  01:57:59,407  01:58:00,241  \n856  01:58:03,239  01:58:01,409  01:58:02,618  \n\n[181 rows x 7 columns]",
      "text/html": "<div>\n<style scoped>\n    .dataframe tbody tr th:only-of-type {\n        vertical-align: middle;\n    }\n\n    .dataframe tbody tr th {\n        vertical-align: top;\n    }\n\n    .dataframe thead th {\n        text-align: right;\n    }\n</style>\n<table border=\"1\" class=\"dataframe\">\n  <thead>\n    <tr style=\"text-align: right;\">\n      <th></th>\n      <th>Hebrew</th>\n      <th>English</th>\n      <th>Safe</th>\n      <th>Hebrew_st</th>\n      <th>Hebrew_e</th>\n      <th>English_st</th>\n      <th>English_e</th>\n    </tr>\n  </thead>\n  <tbody>\n    <tr>\n      <th>2</th>\n      <td>.\"אין לך מקום ב\"ההולנדי</td>\n      <td>There's no place for you\\non the Dutchman.</td>\n      <td>False</td>\n      <td>00:03:47,090</td>\n      <td>00:03:49,300</td>\n      <td>00:03:47,020</td>\n      <td>00:03:49,772</td>\n    </tr>\n    <tr>\n      <th>13</th>\n      <td>.הוא יעזור לי למצוא את הקלשון</td>\n      <td>He will help me\\nfind the Trident.</td>\n      <td>False</td>\n      <td>00:04:37,480</td>\n      <td>00:04:38,769</td>\n      <td>00:04:37,153</td>\n      <td>00:04:38,613</td>\n    </tr>\n    <tr>\n      <th>14</th>\n      <td>...אתה חייב להפסיק להתנהג כמו</td>\n      <td>You have to stop\\nacting like...</td>\n      <td>False</td>\n      <td>00:04:42,980</td>\n      <td>00:04:43,939</td>\n      <td>00:04:42,659</td>\n      <td>00:04:43,660</td>\n    </tr>\n    <tr>\n      <th>18</th>\n      <td>.הקללה שלי לא תישבר לעולם</td>\n      <td>But my curse\\nwill never be broken.</td>\n      <td>False</td>\n      <td>00:05:01,710</td>\n      <td>00:05:03,460</td>\n      <td>00:05:01,427</td>\n      <td>00:05:03,429</td>\n    </tr>\n    <tr>\n      <th>30</th>\n      <td>!אני צריך לדבר עם הקפטן\\n?מה אמרת-</td>\n      <td>I need to speak\\nwith the captain.</td>\n      <td>False</td>\n      <td>00:06:41,350</td>\n      <td>00:06:43,229</td>\n      <td>00:06:41,360</td>\n      <td>00:06:42,487</td>\n    </tr>\n    <tr>\n      <th>...</th>\n      <td>...</td>\n      <td>...</td>\n      <td>...</td>\n      <td>...</td>\n      <td>...</td>\n      <td>...</td>\n      <td>...</td>\n    </tr>\n    <tr>\n      <th>816</th>\n      <td>!הנרי\\n.לפצל, לשבור-</td>\n      <td>Divide. Break.</td>\n      <td>False</td>\n      <td>01:47:07,080</td>\n      <td>01:47:09,039</td>\n      <td>01:47:07,631</td>\n      <td>01:47:08,799</td>\n    </tr>\n    <tr>\n      <th>835</th>\n      <td>.לרגע אחד היה לי הכל, הנרי</td>\n      <td>For a moment,\\nI had everything, Henry.</td>\n      <td>False</td>\n      <td>01:53:45,310</td>\n      <td>01:53:47,770</td>\n      <td>01:53:44,944</td>\n      <td>01:53:47,780</td>\n    </tr>\n    <tr>\n      <th>844</th>\n      <td>?כן, אבא</td>\n      <td>Yes, Father.</td>\n      <td>False</td>\n      <td>01:56:16,590</td>\n      <td>01:56:17,590</td>\n      <td>01:56:16,387</td>\n      <td>01:56:17,472</td>\n    </tr>\n    <tr>\n      <th>854</th>\n      <td>.קפטן\\n.תודה-</td>\n      <td>Thank you.</td>\n      <td>False</td>\n      <td>01:57:58,610</td>\n      <td>01:58:00,569</td>\n      <td>01:57:59,407</td>\n      <td>01:58:00,241</td>\n    </tr>\n    <tr>\n      <th>856</th>\n      <td>.רבותיי\\n.תודה-</td>\n      <td>Sirs. Thank you.</td>\n      <td>False</td>\n      <td>01:58:01,650</td>\n      <td>01:58:03,239</td>\n      <td>01:58:01,409</td>\n      <td>01:58:02,618</td>\n    </tr>\n  </tbody>\n</table>\n<p>181 rows × 7 columns</p>\n</div>"
     },
     "execution_count": 61,
     "metadata": {},
     "output_type": "execute_result"
    }
   ],
   "source": [
    "subs[subs[\"Safe\"] != True]"
   ]
  },
  {
   "cell_type": "code",
   "execution_count": 9,
   "metadata": {
    "collapsed": false,
    "jupyter": {
     "outputs_hidden": false
    }
   },
   "outputs": [
    {
     "name": "stdout",
     "output_type": "stream",
     "text": [
      "Invalid input, x-delete, v-save, break-break\n",
      "\n",
      "1\\34\n",
      "00:03:55,199 - 00:03:56,399\n",
      ".אולי הבסיס קרוב\n",
      "And our donkey\n",
      "just spotted another trench.\n"
     ]
    }
   ],
   "source": [
    "unsafe_len = subs[subs[\"Safe\"] != True].shape[0]\n",
    "i = 0\n",
    "for index, row in subs[subs[\"Safe\"] != True].iterrows():\n",
    "    i += 1\n",
    "    while True:\n",
    "        print(f\"{i}\\\\{unsafe_len}\")\n",
    "        print(row[\"Hebrew_st\"],\"-\",row[\"Hebrew_e\"])\n",
    "        print(row['Hebrew'])\n",
    "        print(row['English'])\n",
    "        res = input()\n",
    "        if res == \"x\":\n",
    "            clear_output()\n",
    "            print(f\"Marking unsafe: {subs.iloc[index]['Hebrew']}\\n\")\n",
    "            break\n",
    "        elif res == \"v\":\n",
    "            clear_output()\n",
    "            print(f\"Marking safe: {subs.iloc[index]['Hebrew']}\\n\")\n",
    "            subs.loc[index, \"Safe\"] = True\n",
    "            break\n",
    "        elif res == \"break\":\n",
    "            break\n",
    "        else:\n",
    "            clear_output()\n",
    "            print(\"Invalid input, x-delete, v-save, break-break\\n\")\n",
    "            continue\n",
    "    if res == \"break\":\n",
    "        break"
   ]
  },
  {
   "cell_type": "code",
   "execution_count": 62,
   "metadata": {
    "ExecuteTime": {
     "end_time": "2024-01-09T21:47:45.958920500Z",
     "start_time": "2024-01-09T21:47:45.917033800Z"
    }
   },
   "outputs": [],
   "source": [
    "subs = subs[subs[\"Safe\"] == True]"
   ]
  },
  {
   "cell_type": "code",
   "execution_count": 63,
   "metadata": {
    "ExecuteTime": {
     "end_time": "2024-01-09T21:47:45.996819300Z",
     "start_time": "2024-01-09T21:47:45.948949500Z"
    }
   },
   "outputs": [],
   "source": [
    "subs[\"Hebrew\"] = subs[\"Hebrew\"].str.replace(\"\\n\", \", \")\n",
    "subs[\"English\"] = subs[\"English\"].str.replace(\"\\n\", \", \")\n",
    "subs[\"Hebrew\"] = subs[\"Hebrew\"].str.replace(\":\", \", \")\n",
    "subs[\"English\"] = subs[\"English\"].str.replace(\":\", \", \")\n",
    "subs[\"Hebrew\"] = subs[\"Hebrew\"].str.replace('\"', \"\")\n",
    "subs[\"English\"] = subs[\"English\"].str.replace('\"', \"\")"
   ]
  },
  {
   "cell_type": "code",
   "execution_count": 64,
   "metadata": {
    "ExecuteTime": {
     "end_time": "2024-01-09T21:47:46.034717300Z",
     "start_time": "2024-01-09T21:47:45.964905300Z"
    }
   },
   "outputs": [],
   "source": [
    "subs.to_csv(r\"Data/Modified/Pirates.of.the.Caribbean.Dead.Men.Tell.No.Tales.2017.csv\", index=False)"
   ]
  },
  {
   "cell_type": "code",
   "execution_count": 65,
   "metadata": {
    "ExecuteTime": {
     "end_time": "2024-01-09T21:47:46.126482200Z",
     "start_time": "2024-01-09T21:47:45.994824400Z"
    }
   },
   "outputs": [
    {
     "data": {
      "text/plain": "                                  Hebrew  \\\n0                        .תסתכל עליי, בן   \n1                            .לא אכפת לי   \n2                     .הם יודעים שאתה פה   \n3                    ,לא, בחיים לא אפסיק   \n4     ואם תשליך אותי מהספינה, .אחזור ישר   \n..                                   ...   \n678                                .תודה   \n679                      ?לאן נשוט, קפטן   \n680    ,נעקוב אחר הכוכבים, .רב חובל גיבס   \n681                            .כן, קפטן   \n682  יש לי פגישה, .מעבר לאופק האהוב עליי   \n\n                                               English  Safe     Hebrew_st  \\\n0                                     Look at me, son.  True  00:03:41,340   \n1                                        I don't care.  True  00:03:45,720   \n2                               They know you're here.  True  00:03:53,060   \n3                            I won't! I'll never stop.  True  00:04:00,270   \n4    And if you throw me over,, I'll come straight ...  True  00:04:02,980   \n..                                                 ...   ...           ...   \n678                                         Thank you.  True  01:58:28,470   \n679                      What be our heading, Captain?  True  01:58:30,600   \n680          We shall follow the stars,, Master Gibbs.  True  01:58:32,720   \n681                                 Aye, aye, Captain!  True  01:58:36,140   \n682    I have a rendezvous, beyond my beloved horizon.  True  01:58:44,110   \n\n         Hebrew_e    English_st     English_e  \n0    00:03:42,760  00:03:41,180  00:03:42,932  \n1    00:03:46,880  00:03:45,518  00:03:46,853  \n2    00:03:54,350  00:03:52,859  00:03:54,444  \n3    00:04:02,730  00:04:00,283  00:04:02,535  \n4    00:04:06,070  00:04:02,702  00:04:05,914  \n..            ...           ...           ...  \n678  01:58:29,640  01:58:28,269  01:58:29,604  \n679  01:58:32,719  01:58:30,313  01:58:32,648  \n680  01:58:35,730  01:58:32,815  01:58:35,610  \n681  01:58:38,100  01:58:35,777  01:58:38,404  \n682  01:58:48,280  01:58:43,951  01:58:47,955  \n\n[683 rows x 7 columns]",
      "text/html": "<div>\n<style scoped>\n    .dataframe tbody tr th:only-of-type {\n        vertical-align: middle;\n    }\n\n    .dataframe tbody tr th {\n        vertical-align: top;\n    }\n\n    .dataframe thead th {\n        text-align: right;\n    }\n</style>\n<table border=\"1\" class=\"dataframe\">\n  <thead>\n    <tr style=\"text-align: right;\">\n      <th></th>\n      <th>Hebrew</th>\n      <th>English</th>\n      <th>Safe</th>\n      <th>Hebrew_st</th>\n      <th>Hebrew_e</th>\n      <th>English_st</th>\n      <th>English_e</th>\n    </tr>\n  </thead>\n  <tbody>\n    <tr>\n      <th>0</th>\n      <td>.תסתכל עליי, בן</td>\n      <td>Look at me, son.</td>\n      <td>True</td>\n      <td>00:03:41,340</td>\n      <td>00:03:42,760</td>\n      <td>00:03:41,180</td>\n      <td>00:03:42,932</td>\n    </tr>\n    <tr>\n      <th>1</th>\n      <td>.לא אכפת לי</td>\n      <td>I don't care.</td>\n      <td>True</td>\n      <td>00:03:45,720</td>\n      <td>00:03:46,880</td>\n      <td>00:03:45,518</td>\n      <td>00:03:46,853</td>\n    </tr>\n    <tr>\n      <th>2</th>\n      <td>.הם יודעים שאתה פה</td>\n      <td>They know you're here.</td>\n      <td>True</td>\n      <td>00:03:53,060</td>\n      <td>00:03:54,350</td>\n      <td>00:03:52,859</td>\n      <td>00:03:54,444</td>\n    </tr>\n    <tr>\n      <th>3</th>\n      <td>,לא, בחיים לא אפסיק</td>\n      <td>I won't! I'll never stop.</td>\n      <td>True</td>\n      <td>00:04:00,270</td>\n      <td>00:04:02,730</td>\n      <td>00:04:00,283</td>\n      <td>00:04:02,535</td>\n    </tr>\n    <tr>\n      <th>4</th>\n      <td>ואם תשליך אותי מהספינה, .אחזור ישר</td>\n      <td>And if you throw me over,, I'll come straight ...</td>\n      <td>True</td>\n      <td>00:04:02,980</td>\n      <td>00:04:06,070</td>\n      <td>00:04:02,702</td>\n      <td>00:04:05,914</td>\n    </tr>\n    <tr>\n      <th>...</th>\n      <td>...</td>\n      <td>...</td>\n      <td>...</td>\n      <td>...</td>\n      <td>...</td>\n      <td>...</td>\n      <td>...</td>\n    </tr>\n    <tr>\n      <th>678</th>\n      <td>.תודה</td>\n      <td>Thank you.</td>\n      <td>True</td>\n      <td>01:58:28,470</td>\n      <td>01:58:29,640</td>\n      <td>01:58:28,269</td>\n      <td>01:58:29,604</td>\n    </tr>\n    <tr>\n      <th>679</th>\n      <td>?לאן נשוט, קפטן</td>\n      <td>What be our heading, Captain?</td>\n      <td>True</td>\n      <td>01:58:30,600</td>\n      <td>01:58:32,719</td>\n      <td>01:58:30,313</td>\n      <td>01:58:32,648</td>\n    </tr>\n    <tr>\n      <th>680</th>\n      <td>,נעקוב אחר הכוכבים, .רב חובל גיבס</td>\n      <td>We shall follow the stars,, Master Gibbs.</td>\n      <td>True</td>\n      <td>01:58:32,720</td>\n      <td>01:58:35,730</td>\n      <td>01:58:32,815</td>\n      <td>01:58:35,610</td>\n    </tr>\n    <tr>\n      <th>681</th>\n      <td>.כן, קפטן</td>\n      <td>Aye, aye, Captain!</td>\n      <td>True</td>\n      <td>01:58:36,140</td>\n      <td>01:58:38,100</td>\n      <td>01:58:35,777</td>\n      <td>01:58:38,404</td>\n    </tr>\n    <tr>\n      <th>682</th>\n      <td>יש לי פגישה, .מעבר לאופק האהוב עליי</td>\n      <td>I have a rendezvous, beyond my beloved horizon.</td>\n      <td>True</td>\n      <td>01:58:44,110</td>\n      <td>01:58:48,280</td>\n      <td>01:58:43,951</td>\n      <td>01:58:47,955</td>\n    </tr>\n  </tbody>\n</table>\n<p>683 rows × 7 columns</p>\n</div>"
     },
     "execution_count": 65,
     "metadata": {},
     "output_type": "execute_result"
    }
   ],
   "source": [
    "test = pd.read_csv(r\"Data/Modified/Pirates.of.the.Caribbean.Dead.Men.Tell.No.Tales.2017.csv\")\n",
    "test"
   ]
  },
  {
   "cell_type": "code",
   "execution_count": 82,
   "metadata": {},
   "outputs": [],
   "source": [
    "# Loads back the SubRipTime type\n",
    "test['Hebrew_st'] = test['Hebrew_st'].apply(lambda x: SubRipTime.from_string(x) if isinstance(x, str) else x)\n",
    "test['Hebrew_e'] = test['Hebrew_e'].apply(lambda x: SubRipTime.from_string(x) if isinstance(x, str) else x)\n",
    "test['English_st'] = test['English_st'].apply(lambda x: SubRipTime.from_string(x) if isinstance(x, str) else x)\n",
    "test['English_e'] = test['English_e'].apply(lambda x: SubRipTime.from_string(x) if isinstance(x, str) else x)"
   ]
  },
  {
   "cell_type": "code",
   "execution_count": 122,
   "metadata": {},
   "outputs": [
    {
     "data": {
      "text/html": [
       "<div>\n",
       "<style scoped>\n",
       "    .dataframe tbody tr th:only-of-type {\n",
       "        vertical-align: middle;\n",
       "    }\n",
       "\n",
       "    .dataframe tbody tr th {\n",
       "        vertical-align: top;\n",
       "    }\n",
       "\n",
       "    .dataframe thead th {\n",
       "        text-align: right;\n",
       "    }\n",
       "</style>\n",
       "<table border=\"1\" class=\"dataframe\">\n",
       "  <thead>\n",
       "    <tr style=\"text-align: right;\">\n",
       "      <th></th>\n",
       "      <th>Hebrew</th>\n",
       "      <th>English</th>\n",
       "      <th>Safe</th>\n",
       "      <th>Hebrew_st</th>\n",
       "      <th>Hebrew_e</th>\n",
       "      <th>English_st</th>\n",
       "      <th>English_e</th>\n",
       "    </tr>\n",
       "  </thead>\n",
       "  <tbody>\n",
       "    <tr>\n",
       "      <th>0</th>\n",
       "      <td>!גול</td>\n",
       "      <td>Goal!</td>\n",
       "      <td>True</td>\n",
       "      <td>00:02:11,928</td>\n",
       "      <td>00:02:13,367</td>\n",
       "      <td>00:02:12,345</td>\n",
       "      <td>00:02:13,835</td>\n",
       "    </tr>\n",
       "    <tr>\n",
       "      <th>2</th>\n",
       "      <td>,מה שזה לא יהיה, .זה רחוק מכאן</td>\n",
       "      <td>I heard it, Manny., Whatever it is, it's miles...</td>\n",
       "      <td>True</td>\n",
       "      <td>00:03:27,611</td>\n",
       "      <td>00:03:29,011</td>\n",
       "      <td>00:03:26,887</td>\n",
       "      <td>00:03:29,219</td>\n",
       "    </tr>\n",
       "    <tr>\n",
       "      <th>3</th>\n",
       "      <td>?פיצ'ס, את בסדר</td>\n",
       "      <td>Peaches, are you all right?</td>\n",
       "      <td>True</td>\n",
       "      <td>00:03:29,118</td>\n",
       "      <td>00:03:31,076</td>\n",
       "      <td>00:03:29,389</td>\n",
       "      <td>00:03:30,720</td>\n",
       "    </tr>\n",
       "    <tr>\n",
       "      <th>5</th>\n",
       "      <td>שניכם הייתם אמורים להיות, !דודים אחראיים</td>\n",
       "      <td>You two were supposed to be, responsible uncles!</td>\n",
       "      <td>True</td>\n",
       "      <td>00:03:42,116</td>\n",
       "      <td>00:03:44,616</td>\n",
       "      <td>00:03:42,469</td>\n",
       "      <td>00:03:44,869</td>\n",
       "    </tr>\n",
       "    <tr>\n",
       "      <th>6</th>\n",
       "      <td>מה? לא ראיתי את פיצ'ס מתגנבת, .לפני 15 או 20 דקות</td>\n",
       "      <td>What? I didn't see Peaches sneak off, maybe 15...</td>\n",
       "      <td>True</td>\n",
       "      <td>00:03:44,728</td>\n",
       "      <td>00:03:48,113</td>\n",
       "      <td>00:03:44,938</td>\n",
       "      <td>00:03:48,169</td>\n",
       "    </tr>\n",
       "    <tr>\n",
       "      <th>...</th>\n",
       "      <td>...</td>\n",
       "      <td>...</td>\n",
       "      <td>...</td>\n",
       "      <td>...</td>\n",
       "      <td>...</td>\n",
       "      <td>...</td>\n",
       "      <td>...</td>\n",
       "    </tr>\n",
       "    <tr>\n",
       "      <th>395</th>\n",
       "      <td>- וונדה סייקס -</td>\n",
       "      <td># Somehow we found it here #</td>\n",
       "      <td>True</td>\n",
       "      <td>01:20:39,405</td>\n",
       "      <td>01:20:42,781</td>\n",
       "      <td>01:20:39,882</td>\n",
       "      <td>01:20:42,942</td>\n",
       "    </tr>\n",
       "    <tr>\n",
       "      <th>396</th>\n",
       "      <td>- ג'ניפר לופז -</td>\n",
       "      <td># We found us a home #</td>\n",
       "      <td>True</td>\n",
       "      <td>01:20:43,028</td>\n",
       "      <td>01:20:46,468</td>\n",
       "      <td>01:20:43,118</td>\n",
       "      <td>01:20:46,576</td>\n",
       "    </tr>\n",
       "    <tr>\n",
       "      <th>399</th>\n",
       "      <td>- אלאיין צ'באט -, - הת'ר מוריס -</td>\n",
       "      <td># We are #, # We are #</td>\n",
       "      <td>True</td>\n",
       "      <td>01:21:12,224</td>\n",
       "      <td>01:21:15,321</td>\n",
       "      <td>01:21:12,814</td>\n",
       "      <td>01:21:15,510</td>\n",
       "    </tr>\n",
       "    <tr>\n",
       "      <th>400</th>\n",
       "      <td>...אנחנו, אנחנו</td>\n",
       "      <td># We are, we are #</td>\n",
       "      <td>True</td>\n",
       "      <td>01:21:19,879</td>\n",
       "      <td>01:21:22,489</td>\n",
       "      <td>01:21:20,355</td>\n",
       "      <td>01:21:22,949</td>\n",
       "    </tr>\n",
       "    <tr>\n",
       "      <th>401</th>\n",
       "      <td>!חזיר וגבינה</td>\n",
       "      <td># Ham and cheese #</td>\n",
       "      <td>True</td>\n",
       "      <td>01:21:22,640</td>\n",
       "      <td>01:21:24,636</td>\n",
       "      <td>01:21:23,025</td>\n",
       "      <td>01:21:24,356</td>\n",
       "    </tr>\n",
       "  </tbody>\n",
       "</table>\n",
       "<p>330 rows × 7 columns</p>\n",
       "</div>"
      ],
      "text/plain": [
       "                                                Hebrew  \\\n",
       "0                                                 !גול   \n",
       "2                       ,מה שזה לא יהיה, .זה רחוק מכאן   \n",
       "3                                      ?פיצ'ס, את בסדר   \n",
       "5             שניכם הייתם אמורים להיות, !דודים אחראיים   \n",
       "6    מה? לא ראיתי את פיצ'ס מתגנבת, .לפני 15 או 20 דקות   \n",
       "..                                                 ...   \n",
       "395                                    - וונדה סייקס -   \n",
       "396                                    - ג'ניפר לופז -   \n",
       "399                   - אלאיין צ'באט -, - הת'ר מוריס -   \n",
       "400                                    ...אנחנו, אנחנו   \n",
       "401                                       !חזיר וגבינה   \n",
       "\n",
       "                                               English  Safe     Hebrew_st  \\\n",
       "0                                                Goal!  True  00:02:11,928   \n",
       "2    I heard it, Manny., Whatever it is, it's miles...  True  00:03:27,611   \n",
       "3                          Peaches, are you all right?  True  00:03:29,118   \n",
       "5     You two were supposed to be, responsible uncles!  True  00:03:42,116   \n",
       "6    What? I didn't see Peaches sneak off, maybe 15...  True  00:03:44,728   \n",
       "..                                                 ...   ...           ...   \n",
       "395                       # Somehow we found it here #  True  01:20:39,405   \n",
       "396                             # We found us a home #  True  01:20:43,028   \n",
       "399                             # We are #, # We are #  True  01:21:12,224   \n",
       "400                                 # We are, we are #  True  01:21:19,879   \n",
       "401                                 # Ham and cheese #  True  01:21:22,640   \n",
       "\n",
       "         Hebrew_e    English_st     English_e  \n",
       "0    00:02:13,367  00:02:12,345  00:02:13,835  \n",
       "2    00:03:29,011  00:03:26,887  00:03:29,219  \n",
       "3    00:03:31,076  00:03:29,389  00:03:30,720  \n",
       "5    00:03:44,616  00:03:42,469  00:03:44,869  \n",
       "6    00:03:48,113  00:03:44,938  00:03:48,169  \n",
       "..            ...           ...           ...  \n",
       "395  01:20:42,781  01:20:39,882  01:20:42,942  \n",
       "396  01:20:46,468  01:20:43,118  01:20:46,576  \n",
       "399  01:21:15,321  01:21:12,814  01:21:15,510  \n",
       "400  01:21:22,489  01:21:20,355  01:21:22,949  \n",
       "401  01:21:24,636  01:21:23,025  01:21:24,356  \n",
       "\n",
       "[330 rows x 7 columns]"
      ]
     },
     "execution_count": 122,
     "metadata": {},
     "output_type": "execute_result"
    }
   ],
   "source": [
    "subs"
   ]
  },
  {
   "cell_type": "markdown",
   "source": [
    "## Shift"
   ],
   "metadata": {
    "collapsed": false
   }
  },
  {
   "cell_type": "code",
   "execution_count": null,
   "outputs": [],
   "source": [],
   "metadata": {
    "collapsed": false
   }
  }
 ],
 "metadata": {
  "kernelspec": {
   "display_name": "Python 3 (ipykernel)",
   "language": "python",
   "name": "python3"
  },
  "language_info": {
   "codemirror_mode": {
    "name": "ipython",
    "version": 3
   },
   "file_extension": ".py",
   "mimetype": "text/x-python",
   "name": "python",
   "nbconvert_exporter": "python",
   "pygments_lexer": "ipython3",
   "version": "3.11.1"
  }
 },
 "nbformat": 4,
 "nbformat_minor": 4
}
